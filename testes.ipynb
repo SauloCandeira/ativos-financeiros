{
 "cells": [
  {
   "cell_type": "code",
   "execution_count": 4,
   "source": [
    "import dash\r\n",
    "from dash.development.base_component import Component\r\n",
    "from dash.html.H3 import H3\r\n",
    "from dash.html.Span import Span\r\n",
    "from dash_bootstrap_components._components.Card import Card\r\n",
    "import dash_core_components as dcc\r\n",
    "import dash_html_components as html\r\n",
    "import plotly.express as px\r\n",
    "import pandas as pd\r\n",
    "from dash.dependencies import Input, Output\r\n",
    "import pyodbc \r\n",
    "import dash_bootstrap_components as dbc\r\n",
    "import dash_html_components as html\r\n",
    "\r\n",
    "\r\n",
    "app = dash.Dash(__name__, external_stylesheets=[dbc.themes.CYBORG])\r\n",
    "\r\n",
    "############################# BANCO DE DADOS\r\n",
    "# ----------------- SELECT I \r\n",
    "conn = pyodbc.connect('DRIVER={ODBC Driver 17 for SQL Server};SERVER=4A422DR3Z;DATABASE=imp-cgdf;Trusted_Connection=yes;')\r\n",
    "def connectSQLServer(conn):\r\n",
    "    connSQLServer = conn\r\n",
    "    return connSQLServer\r\n",
    "sql_query = (''' SELECT nome, tonner, dt FROM impressoras_graficos ORDER BY tonner ''')\r\n",
    "\r\n",
    "\r\n",
    "sql_query2 = (''' select dt, 'off' as conexao, sum(1) as qtd from [imp-cgdf].[dbo].[impressoras_graficos] \r\n",
    "where [total_impressao] like '0' group by dt\r\n",
    "union all\r\n",
    "select dt, 'on' as conexao, sum(1) as qtd from [imp-cgdf].[dbo].[impressoras_graficos] \r\n",
    "where [total_impressao] not like '0' group by dt ''')\r\n",
    "\r\n",
    "df = pd.read_sql(sql_query,conn)\r\n",
    "df2 = pd.read_sql(sql_query2,conn)\r\n",
    "\r\n",
    "############################# TRATAMENTO DE DADOS\r\n",
    "\r\n",
    "qtd_online = df2['qtd'][1]\r\n",
    "print(qtd_online)"
   ],
   "outputs": [
    {
     "output_type": "stream",
     "name": "stdout",
     "text": [
      "0     8\n",
      "1    10\n",
      "2    31\n",
      "3    29\n",
      "Name: qtd, dtype: int64\n"
     ]
    }
   ],
   "metadata": {}
  }
 ],
 "metadata": {
  "kernelspec": {
   "name": "python3",
   "display_name": "Python 3.9.6 64-bit"
  },
  "language_info": {
   "codemirror_mode": {
    "name": "ipython",
    "version": 3
   },
   "file_extension": ".py",
   "mimetype": "text/x-python",
   "name": "python",
   "nbconvert_exporter": "python",
   "pygments_lexer": "ipython3",
   "version": "3.9.6"
  },
  "interpreter": {
   "hash": "b068ed34e08882765f10add0a52e993cc70691c2b6f27f35aa1dca1c7b0e4a39"
  }
 },
 "nbformat": 4,
 "nbformat_minor": 5
}